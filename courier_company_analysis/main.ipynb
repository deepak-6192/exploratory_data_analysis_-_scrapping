{
 "cells": [
  {
   "cell_type": "code",
   "execution_count": null,
   "metadata": {},
   "outputs": [],
   "source": [
    "import pandas as pd\n",
    "import numpy as np \n",
    "import matplotlib.pyplot as plt\n",
    "import seaborn as sns "
   ]
  },
  {
   "cell_type": "code",
   "execution_count": null,
   "metadata": {},
   "outputs": [],
   "source": [
    "order_report = pd.read_excel(\"/mnt/d/courier_analysis/courier_company_analysis/resources/Company_X_Order_Report.xlsx\")\n",
    "pincode_zone = pd.read_excel(\"/mnt/d/courier_analysis/courier_company_analysis/resources/Company_X_Pincode Zones.xlsx\")\n",
    "sku_master = pd.read_excel(\"/mnt/d/courier_analysis/courier_company_analysis/resources/Company_X_SKU Master.xlsx\")\n",
    "courier_invoice = pd.read_excel('/mnt/d/courier_analysis/courier_company_analysis/resources/Courier_Company_Invoice.xlsx')\n",
    "courier_rates = pd.read_excel('/mnt/d/courier_analysis/courier_company_analysis/resources/Courier_Company_Rates.xlsx')"
   ]
  },
  {
   "cell_type": "code",
   "execution_count": null,
   "metadata": {},
   "outputs": [],
   "source": [
    "pincode_zone = pincode_zone.drop_duplicates()"
   ]
  },
  {
   "cell_type": "code",
   "execution_count": null,
   "metadata": {},
   "outputs": [],
   "source": [
    "# dropped the item which is duplicated \n",
    "sku_master.drop_duplicates(inplace = True)"
   ]
  },
  {
   "cell_type": "code",
   "execution_count": null,
   "metadata": {},
   "outputs": [],
   "source": [
    "pd.set_option('display.max_columns', None)"
   ]
  },
  {
   "cell_type": "code",
   "execution_count": null,
   "metadata": {},
   "outputs": [],
   "source": [
    "pd.set_option('display.max_rows', None)"
   ]
  },
  {
   "cell_type": "code",
   "execution_count": null,
   "metadata": {},
   "outputs": [],
   "source": [
    "df = pd.merge(order_report, sku_master, on='SKU', how='inner')\n"
   ]
  },
  {
   "cell_type": "code",
   "execution_count": null,
   "metadata": {},
   "outputs": [],
   "source": [
    "df[\"Total weight as per X (KG)\"]=(df[\"Order_Qty\"]*df[\"Weight_g\"])/1000"
   ]
  },
  {
   "cell_type": "code",
   "execution_count": null,
   "metadata": {},
   "outputs": [],
   "source": [
    "temp_df = df.groupby(\"Order_Id\").sum(\"Total weight as per X (KG)\").reset_index()[[\"Order_Id\",\"Total weight as per X (KG)\"]]"
   ]
  },
  {
   "cell_type": "code",
   "execution_count": null,
   "metadata": {},
   "outputs": [],
   "source": [
    "temp_df = pd.merge(courier_invoice,temp_df,on= \"Order_Id\")"
   ]
  },
  {
   "cell_type": "code",
   "execution_count": null,
   "metadata": {},
   "outputs": [],
   "source": [
    "temp_df = temp_df[[\"Order_Id\",\"Customer_Pincode\",\"Type_of_Shipment\",\"Total weight as per X (KG)\",\"AWB_Code\",\"Charged_Weight\",\"Billing_Amount_Rs\"]]\n"
   ]
  },
  {
   "cell_type": "code",
   "execution_count": null,
   "metadata": {},
   "outputs": [],
   "source": [
    "temp_df = pd.merge(temp_df,pincode_zone,on=\"Customer_Pincode\",how=\"inner\")"
   ]
  },
  {
   "cell_type": "code",
   "execution_count": null,
   "metadata": {},
   "outputs": [],
   "source": [
    "pincode_zone[\"Customer_Pincode\"].count()"
   ]
  },
  {
   "cell_type": "code",
   "execution_count": null,
   "metadata": {},
   "outputs": [],
   "source": [
    "temp_df.head()"
   ]
  },
  {
   "cell_type": "code",
   "execution_count": null,
   "metadata": {},
   "outputs": [],
   "source": [
    "temp_df = temp_df[[\"Order_Id\",\"Customer_Pincode\",\"Type_of_Shipment\",\"Total weight as per X (KG)\",\"AWB_Code\",\"Charged_Weight\",\"Billing_Amount_Rs\",\"Zone\"]]"
   ]
  },
  {
   "cell_type": "code",
   "execution_count": null,
   "metadata": {},
   "outputs": [],
   "source": [
    "def weight_slab(zone,i):\n",
    "    if zone == \"a\":\n",
    "        if temp_df[\"Total weight as per X (KG)\"][i] < .500:\n",
    "            return .500\n",
    "        elif (temp_df[\"Total weight as per X (KG)\"][i] > .500) & (temp_df[\"Total weight as per X (KG)\"][i] < 1.00):\n",
    "            return 1.000\n",
    "        elif (temp_df[\"Total weight as per X (KG)\"][i] > 1) & (temp_df[\"Total weight as per X (KG)\"][i] < 1.50):\n",
    "            return 1.500\n",
    "        else:\n",
    "            return 2.000\n",
    "    elif zone == \"b\":\n",
    "        if temp_df[\"Total weight as per X (KG)\"][i] < 1:\n",
    "            return 1.000\n",
    "        elif (temp_df[\"Total weight as per X (KG)\"][i] > 1) & (temp_df[\"Total weight as per X (KG)\"][i] < 2.00):\n",
    "            return 2.000\n",
    "        elif (temp_df[\"Total weight as per X (KG)\"][i] > 2) & (temp_df[\"Total weight as per X (KG)\"][i] < 3.00):\n",
    "            return 3.00\n",
    "        else:\n",
    "            return 4.000   \n",
    "    elif zone == \"c\":\n",
    "        if temp_df[\"Total weight as per X (KG)\"][i] < 1.25:\n",
    "            return 1.250\n",
    "        elif (temp_df[\"Total weight as per X (KG)\"][i] > 1.250) & (temp_df[\"Total weight as per X (KG)\"][i] < 2.50):\n",
    "            return 2.500\n",
    "        elif (temp_df[\"Total weight as per X (KG)\"][i] > 2.50) & (temp_df[\"Total weight as per X (KG)\"][i] < 3.75):\n",
    "            return 3.75\n",
    "        else:\n",
    "            return 5.00\n",
    "    elif zone == \"d\":\n",
    "        if temp_df[\"Total weight as per X (KG)\"][i] < 1.5:\n",
    "            return 1.500\n",
    "        elif (temp_df[\"Total weight as per X (KG)\"][i] > 1.500) & (temp_df[\"Total weight as per X (KG)\"][i] < 3.00):\n",
    "            return 3.00\n",
    "        elif (temp_df[\"Total weight as per X (KG)\"][i] > 3.00) & (temp_df[\"Total weight as per X (KG)\"][i]< 4.500):\n",
    "            return 4.500\n",
    "        else:\n",
    "            return 6.00\n",
    "    elif zone == \"e\":\n",
    "        if temp_df[\"Total weight as per X (KG)\"][i] < 2.00:\n",
    "            return 2.000\n",
    "        elif (temp_df[\"Total weight as per X (KG)\"][i] > 2.00) & (temp_df[\"Total weight as per X (KG)\"][i] < 4.00):\n",
    "            return 4.00\n",
    "        elif (temp_df[\"Total weight as per X (KG)\"][i] > 4.00) & (temp_df[\"Total weight as per X (KG)\"][i]< 6.00):\n",
    "            return 6.00\n",
    "        else:\n",
    "            return 8.00"
   ]
  },
  {
   "cell_type": "code",
   "execution_count": null,
   "metadata": {},
   "outputs": [],
   "source": [
    "slab = []\n",
    "courier_slab = []"
   ]
  },
  {
   "cell_type": "code",
   "execution_count": null,
   "metadata": {},
   "outputs": [],
   "source": [
    "for i in range(0,(len(temp_df[\"Total weight as per X (KG)\"]))):\n",
    "    zone = temp_df[\"Zone\"][i]\n",
    "    slab.append(weight_slab(zone,i))\n",
    "    "
   ]
  },
  {
   "cell_type": "code",
   "execution_count": null,
   "metadata": {},
   "outputs": [],
   "source": [
    "for i in range(0,(len(temp_df[\"Order_Id\"]))):\n",
    "    zone = courier_invoice[\"Zone\"][i]\n",
    "    courier_slab.append(weight_slab(zone,i))"
   ]
  },
  {
   "cell_type": "code",
   "execution_count": null,
   "metadata": {},
   "outputs": [],
   "source": [
    "len(temp_df[\"Total weight as per X (KG)\"])\n"
   ]
  },
  {
   "cell_type": "code",
   "execution_count": null,
   "metadata": {},
   "outputs": [],
   "source": [
    "temp_df.insert(5,\"slab_weight\",slab)"
   ]
  },
  {
   "cell_type": "code",
   "execution_count": null,
   "metadata": {},
   "outputs": [],
   "source": [
    "def bill_cal(type_of_shipment,zon,slab_weight):\n",
    "    if type_of_shipment == \"Forward charges\":\n",
    "        if zon == \"a\":\n",
    "            if slab_weight == 0.5:\n",
    "                return 29.5\n",
    "            elif slab_weight == 1.00:\n",
    "                return 53.1\n",
    "            elif slab_weight == 1.50:\n",
    "                return 76.7\n",
    "            elif slab_weight == 2.00:\n",
    "                return 100.3\n",
    "            else:\n",
    "                return 123.9\n",
    "        if zon == \"b\":\n",
    "            if slab_weight == 1.00:\n",
    "                return 33.00\n",
    "            elif slab_weight == 2.00:\n",
    "                return 61.3\n",
    "            elif slab_weight == 3.00:\n",
    "                return 89.6\n",
    "            elif slab_weight == 4.00:\n",
    "                return 117.9\n",
    "            else:\n",
    "                return 146.2\n",
    "        if zon == \"c\":\n",
    "            if slab_weight == 1.25:\n",
    "                return 40.1\n",
    "            elif slab_weight == 2.50:\n",
    "                return 79\n",
    "            elif slab_weight == 3.75:\n",
    "                return 117.9\n",
    "            elif slab_weight == 5.00:\n",
    "                return 156.8\n",
    "            else:\n",
    "                return 195.7\n",
    "        if zon == \"d\":\n",
    "            if slab_weight == 1.50:\n",
    "                return 45.4\n",
    "            elif slab_weight == 3.00:\n",
    "                return 90.2\n",
    "            elif slab_weight == 4.50:\n",
    "                return 135\n",
    "            elif slab_weight == 6.00:\n",
    "                return 179.8\n",
    "            else:\n",
    "                return 224.6\n",
    "        if zon == \"e\":\n",
    "            if slab_weight == 2.00:\n",
    "                return 56.6\n",
    "            elif slab_weight == 4.00:\n",
    "                return 112.1\n",
    "            elif slab_weight == 6.00:\n",
    "                return 167.6\n",
    "            elif slab_weight == 8.00:\n",
    "                return 223.1\n",
    "            else:\n",
    "                return 278.6\n",
    "            \n",
    "            \n",
    "\n",
    "        \n",
    "    elif type_of_shipment == \"Forward and RTO charges\":\n",
    "        if zon == \"a\":\n",
    "            if slab_weight == 0.5:\n",
    "                return 43.1\n",
    "            elif slab_weight == 1.00:\n",
    "                return 90.3\n",
    "            elif slab_weight == 1.50:\n",
    "                return 137.5\n",
    "            elif slab_weight == 2.00:\n",
    "                return 184.7\n",
    "            else:\n",
    "                return 231.9\n",
    "        if zon == \"b\":\n",
    "            if slab_weight == 1.00:\n",
    "                return 53.5\n",
    "            elif slab_weight == 2.00:\n",
    "                return 110.1\n",
    "            elif slab_weight == 3.00:\n",
    "                return 116.7\n",
    "            elif slab_weight == 4.00:\n",
    "                return 223.3\n",
    "            else:\n",
    "                return 279.9\n",
    "        if zon == \"c\":\n",
    "            if slab_weight == 1.25:\n",
    "                return 72\n",
    "            elif slab_weight == 2.50:\n",
    "                return 149.8\n",
    "            elif slab_weight == 3.75:\n",
    "                return 227.6\n",
    "            elif slab_weight == 5.00:\n",
    "                return 305.4\n",
    "            else:\n",
    "                return 383.2\n",
    "        if zon == \"d\":\n",
    "            if slab_weight == 1.50:\n",
    "                return 86.7\n",
    "            elif slab_weight == 3.00:\n",
    "                return 176.3\n",
    "            elif slab_weight == 4.50:\n",
    "                return 265.9\n",
    "            elif slab_weight == 6.00:\n",
    "                return 355.5\n",
    "            else:\n",
    "                return 445.1\n",
    "        if zon == \"e\":\n",
    "            if slab_weight == 2.00:\n",
    "                return 107.3\n",
    "            elif slab_weight == 4.00:\n",
    "                return 218.3\n",
    "            elif slab_weight == 6.00:\n",
    "                return 329.3\n",
    "            elif slab_weight == 8.00:\n",
    "                return 440.3\n",
    "            else:\n",
    "                return 551.3\n",
    "        \n",
    "        "
   ]
  },
  {
   "cell_type": "code",
   "execution_count": null,
   "metadata": {},
   "outputs": [],
   "source": [
    "total_bill = []"
   ]
  },
  {
   "cell_type": "code",
   "execution_count": null,
   "metadata": {},
   "outputs": [],
   "source": [
    "for i in range(0,len(temp_df['Zone'])):\n",
    "    type_of_shipment= temp_df[\"Type_of_Shipment\"][i]\n",
    "    zon = temp_df[\"Zone\"][i]\n",
    "    slab_weight = temp_df[\"slab_weight\"][i]\n",
    "    total_bill.append(bill_cal(type_of_shipment,zon,slab_weight))\n"
   ]
  },
  {
   "cell_type": "code",
   "execution_count": null,
   "metadata": {},
   "outputs": [],
   "source": [
    "temp_df.insert(6,\"total_bill\",total_bill)"
   ]
  },
  {
   "cell_type": "code",
   "execution_count": null,
   "metadata": {},
   "outputs": [],
   "source": [
    "temp_df[[\"Total weight as per X (KG)\",\"slab_weight\",\"total_bill\",\"Charged_Weight\",\"Billing_Amount_Rs\",\"Zone\"]].head()"
   ]
  },
  {
   "cell_type": "code",
   "execution_count": null,
   "metadata": {},
   "outputs": [],
   "source": [
    "temp_df.insert(6,\"Weight slab charged by Courier Company (KG)\",courier_slab)"
   ]
  },
  {
   "cell_type": "code",
   "execution_count": null,
   "metadata": {},
   "outputs": [],
   "source": [
    "temp_df[temp_df[\"slab_weight\"] != temp_df[\"Weight slab charged by Courier Company (KG)\"]].head(10)"
   ]
  },
  {
   "cell_type": "code",
   "execution_count": null,
   "metadata": {},
   "outputs": [],
   "source": [
    "new_df = pd.merge(temp_df,courier_invoice,on = [\"Order_Id\",\"Customer_Pincode\",\"Type_of_Shipment\",\"AWB_Code\",\"Charged_Weight\",\"Billing_Amount_Rs\"])"
   ]
  },
  {
   "cell_type": "code",
   "execution_count": null,
   "metadata": {},
   "outputs": [],
   "source": [
    "new_df.rename(columns = {\"Order_Id\":\"Order ID\",\"AWB_Code\":\"AWB Number\",\"slab_weight\":\"Weight slab as per X (KG)\",\n",
    "                        \"Charged_Weight\":\"Total weight as per Courier Company (KG)\",\n",
    "                        \"Zone_x\":\"Delivery Zone as per X\",\"Zone_y\":\"Delivery Zone charged by Courier Company\",\n",
    "                        \"total_bill\":\"Expected Charge as per X (Rs.)\",\"Billing_Amount_Rs\":\"Charges Billed by Courier Company (Rs.)\"},inplace = True)"
   ]
  },
  {
   "cell_type": "code",
   "execution_count": null,
   "metadata": {},
   "outputs": [],
   "source": [
    "real_data = new_df[[\"Order ID\",\"AWB Number\",\"Total weight as per X (KG)\",\"Weight slab as per X (KG)\",\"Total weight as per Courier Company (KG)\",\n",
    "        \"Weight slab charged by Courier Company (KG)\",\"Delivery Zone as per X\",\"Delivery Zone charged by Courier Company\",\n",
    "        \"Expected Charge as per X (Rs.)\",\"Charges Billed by Courier Company (Rs.)\"]]"
   ]
  },
  {
   "cell_type": "code",
   "execution_count": null,
   "metadata": {},
   "outputs": [],
   "source": [
    "real_data['Difference Between Expected Charges and Billed Charges (Rs.)'] = real_data[\"Expected Charge as per X (Rs.)\"] - real_data[\"Charges Billed by Courier Company (Rs.)\"]"
   ]
  },
  {
   "cell_type": "code",
   "execution_count": null,
   "metadata": {},
   "outputs": [],
   "source": [
    "Expected_result = real_data"
   ]
  },
  {
   "cell_type": "code",
   "execution_count": null,
   "metadata": {},
   "outputs": [],
   "source": [
    "real_data.head()"
   ]
  },
  {
   "cell_type": "code",
   "execution_count": null,
   "metadata": {},
   "outputs": [],
   "source": [
    "temp_df = real_data[real_data[\"Expected Charge as per X (Rs.)\"] > real_data['Charges Billed by Courier Company (Rs.)']]\n",
    "#temp_df[\"Expected Charge as per X (Rs.)\"].sum()\n",
    "temp_df[\"Charges Billed by Courier Company (Rs.)\"].sum()"
   ]
  },
  {
   "cell_type": "code",
   "execution_count": null,
   "metadata": {},
   "outputs": [],
   "source": [
    "temp_df = real_data[real_data[\"Expected Charge as per X (Rs.)\"] < real_data['Charges Billed by Courier Company (Rs.)']]\n",
    "temp_df[\"Expected Charge as per X (Rs.)\"].sum() - temp_df[\"Charges Billed by Courier Company (Rs.)\"].sum()\n",
    "#temp_df[\"Charges Billed by Courier Company (Rs.)\"].sum()"
   ]
  },
  {
   "cell_type": "code",
   "execution_count": null,
   "metadata": {},
   "outputs": [],
   "source": [
    "temp_df = real_data[real_data[\"Expected Charge as per X (Rs.)\"] == real_data['Charges Billed by Courier Company (Rs.)']]\n",
    "temp_df[\"Charges Billed by Courier Company (Rs.)\"].sum()"
   ]
  },
  {
   "cell_type": "code",
   "execution_count": null,
   "metadata": {},
   "outputs": [],
   "source": [
    "checklist = [\"Total Orders - Correctly Charged\",\"Total Orders - Over Charged\",\"Total Orders - Under Charged\"]\n",
    "count = [8,114,2]\n",
    "courier_company = [428.6,13153.6,66.0]\n",
    "X_company = [428.6,5402.4,113.2]\n",
    "amount = [0,-7750.6,47.2]"
   ]
  },
  {
   "cell_type": "code",
   "execution_count": null,
   "metadata": {},
   "outputs": [],
   "source": [
    "summary = pd.DataFrame({\"checklist\":checklist,\"count\":count,\"courier_company\":courier_company,\"X_company\":X_company,\"amount\":amount})"
   ]
  },
  {
   "cell_type": "code",
   "execution_count": null,
   "metadata": {},
   "outputs": [],
   "source": [
    "summary"
   ]
  },
  {
   "cell_type": "code",
   "execution_count": null,
   "metadata": {},
   "outputs": [],
   "source": [
    "Expected_result.head()"
   ]
  },
  {
   "cell_type": "code",
   "execution_count": null,
   "metadata": {},
   "outputs": [],
   "source": [
    "'''with pd.ExcelWriter('task_final_result.xlsx') as writer:\n",
    "    summary.to_excel(writer,sheet_name=\"summary\",index=False)\n",
    "    Expected_result.to_excel(writer,sheet_name=\"expected_result\",index = False)'''"
   ]
  }
 ],
 "metadata": {
  "kernelspec": {
   "display_name": "venv",
   "language": "python",
   "name": "python3"
  },
  "language_info": {
   "codemirror_mode": {
    "name": "ipython",
    "version": 3
   },
   "file_extension": ".py",
   "mimetype": "text/x-python",
   "name": "python",
   "nbconvert_exporter": "python",
   "pygments_lexer": "ipython3",
   "version": "3.10.12"
  }
 },
 "nbformat": 4,
 "nbformat_minor": 2
}
